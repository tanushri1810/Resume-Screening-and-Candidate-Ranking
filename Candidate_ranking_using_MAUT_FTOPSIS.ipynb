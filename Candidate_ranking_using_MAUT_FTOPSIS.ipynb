{
  "nbformat": 4,
  "nbformat_minor": 0,
  "metadata": {
    "colab": {
      "provenance": [],
      "gpuType": "T4"
    },
    "kernelspec": {
      "name": "python3",
      "display_name": "Python 3"
    },
    "language_info": {
      "name": "python"
    },
    "accelerator": "GPU"
  },
  "cells": [
    {
      "cell_type": "code",
      "execution_count": null,
      "metadata": {
        "id": "JgJKGlgor7XU"
      },
      "outputs": [],
      "source": [
        "#!pip install PyMuPDF\n",
        "import fitz\n",
        "from google.colab import files\n",
        "import re\n"
      ]
    },
    {
      "cell_type": "code",
      "source": [
        "#official 2nd half"
      ],
      "metadata": {
        "id": "OhXVfyiW_RKz"
      },
      "execution_count": null,
      "outputs": []
    },
    {
      "cell_type": "code",
      "source": [
        "from google.colab import files"
      ],
      "metadata": {
        "id": "35ZkVWILM5M9"
      },
      "execution_count": null,
      "outputs": []
    },
    {
      "cell_type": "code",
      "source": [
        "from google.colab import drive\n",
        "drive.mount('/content/drive')"
      ],
      "metadata": {
        "id": "NTIbjSKtO92w",
        "colab": {
          "base_uri": "https://localhost:8080/"
        },
        "outputId": "0b3fbe3d-4f44-4b0f-efda-98720395f665"
      },
      "execution_count": null,
      "outputs": [
        {
          "output_type": "stream",
          "name": "stdout",
          "text": [
            "Drive already mounted at /content/drive; to attempt to forcibly remount, call drive.mount(\"/content/drive\", force_remount=True).\n"
          ]
        }
      ]
    },
    {
      "cell_type": "code",
      "source": [
        "dd1=[\n",
        "    ['H', 'M', 'M', 'H', 'M', 'VL', 'VL'],\n",
        "    ['H', 'L', 'M', 'H', 'VL', 'L', 'VL'],\n",
        "    ['H', 'H', 'L', 'VL', 'M', 'L', 'VL'],\n",
        "    ['H', 'L', 'M', 'H', 'VL', 'L', 'VL'],\n",
        "    ['M', 'H', 'M', 'L', 'VL', 'M', 'M'],\n",
        "    ['M', 'L', 'M', 'M', 'VL', 'L', 'L'],\n",
        "    ['M', 'L', 'VL', 'VL', 'M', 'L', 'VL'],\n",
        "    ['M', 'M', 'M', 'L', 'VL', 'VL', 'VL'],\n",
        "    ['L', 'L', 'L', 'H', 'L', 'VL', 'L'],\n",
        "    ['H', 'H', 'L', 'VL', 'VL', 'L', 'VL'],\n",
        "    ['H', 'M', 'M', 'VL', 'VL', 'L', 'VL'],\n",
        "    ['H', 'VL', 'H', 'VL', 'L', 'VL', 'VL']\n",
        "]\n",
        "dd2=[\n",
        "    ['H', 'M', 'M', 'M', 'H', 'L', 'M'],\n",
        "    ['H', 'M', 'H', 'M', 'VH', 'L', 'H'],\n",
        "    ['H', 'H', 'M', 'H', 'M', 'H', 'M'],\n",
        "    ['H', 'L', 'M', 'L', 'H', 'L', 'L'],\n",
        "    ['VH', 'VH', 'M', 'H', 'L', 'L', 'L'],\n",
        "    ['M', 'M', 'VH', 'M', 'M', 'M', 'M'],\n",
        "    ['L', 'L', 'M', 'L', 'L', 'M', 'H'],\n",
        "    ['H', 'H', 'M', 'M', 'M', 'M', 'M'],\n",
        "    ['M', 'L', 'M', 'M', 'M', 'L', 'H'],\n",
        "    ['VH', 'H', 'VH', 'H', 'H', 'L', 'H'],\n",
        "    ['H', 'VH', 'M', 'M', 'H', 'H', 'M'],\n",
        "    ['L', 'M', 'H', 'M', 'H', 'M', 'L']\n",
        "]\n",
        "dd3=[\n",
        "    [\"M\", \"L\", \"M\", \"H\", \"M\", \"VL\", \"L\"],\n",
        "    [\"M\", \"L\", \"H\", \"H\", \"VL\", \"M\", \"M\"],\n",
        "    [\"H\", \"H\", \"M\", \"H\", \"L\", \"H\", \"M\"],\n",
        "    [\"H\", \"VL\", \"H\", \"L\", \"M\", \"VL\", \"M\"],\n",
        "    [\"M\", \"VH\", \"M\", \"H\", \"L\", \"VL\", \"H\"],\n",
        "    [\"M\", \"M\", \"H\", \"L\", \"VL\", \"M\", \"M\"],\n",
        "    [\"L\", \"VL\", \"L\", \"L\", \"L\", \"VL\", \"L\"],\n",
        "    [\"H\", \"M\", \"H\", \"M\", \"L\", \"M\", \"H\"],\n",
        "    [\"L\", \"VL\", \"M\", \"L\", \"M\", \"VL\", \"M\"],\n",
        "    [\"VH\", \"H\", \"H\", \"H\", \"H\", \"VL\", \"VH\"],\n",
        "    [\"H\", \"H\", \"M\", \"M\", \"L\", \"M\", \"H\"],\n",
        "    [\"H\", \"M\", \"H\", \"M\", \"M\", \"M\", \"H\"]\n",
        "]"
      ],
      "metadata": {
        "id": "oCdHCAPoUTcw"
      },
      "execution_count": null,
      "outputs": []
    },
    {
      "cell_type": "code",
      "source": [
        "import pandas as pd\n",
        "\n",
        "# Load each table\n",
        "data1 = pd.read_csv(\"/content/kaviya_11.csv\") # Replace with actual path\n",
        "data2 = pd.read_csv(\"/content/me_33.csv\")   # Replace with actual path\n",
        "data3 =pd.read_csv(\"/content/tanu_22.csv\")   # Replace with actual path\n",
        "\n",
        "# Define weights\n",
        "weights = [0.5, 0.3, 0.2]\n",
        "\n",
        "\n"
      ],
      "metadata": {
        "id": "afuBuOi9MhFp"
      },
      "execution_count": null,
      "outputs": []
    },
    {
      "cell_type": "code",
      "source": [
        "print(data3)"
      ],
      "metadata": {
        "colab": {
          "base_uri": "https://localhost:8080/"
        },
        "id": "6dn06OWDRZtQ",
        "outputId": "91a02f9d-64bc-4452-db57-89ca3c4b6e62"
      },
      "execution_count": null,
      "outputs": [
        {
          "output_type": "stream",
          "name": "stdout",
          "text": [
            "    A/C  C1  C2 C3 C4  C5  C6  C7\n",
            "0    A1   M   L  M  H   M  VL   L\n",
            "1    A2   M   L  H  H  VL   M   M\n",
            "2    A3   H   H  M  H   L   H   M\n",
            "3    A4   H  VL  H  L   M  VL   M\n",
            "4    A5   M  VH  M  H   L  VL   H\n",
            "5    A6   M   M  H  L  VL   M   M\n",
            "6    A7   L  VL  L  L   L  VL   L\n",
            "7    A8   H   M  H  M   L   M   H\n",
            "8    A9   L  VL  M  L   M  VL   M\n",
            "9   A10  VH   H  H  H   H  VL  VH\n",
            "10  A11   H   H  M  M   L   M   H\n",
            "11  A12   H   M  H  M   M   M   H\n"
          ]
        }
      ]
    },
    {
      "cell_type": "code",
      "source": [
        "import pandas as pd"
      ],
      "metadata": {
        "id": "yjRAf4wJkMIK"
      },
      "execution_count": null,
      "outputs": []
    },
    {
      "cell_type": "code",
      "source": [
        "import numpy as np\n",
        "\n",
        "# Define the fuzzy values for each linguistic term\n",
        "fuzzy_values = {\n",
        "    \"VL\": {\"membership\": (0.0, 0.15, 0.3), \"non_membership\": (0.0, 0.15, 0.35)},\n",
        "    \"L\": {\"membership\": (0.15, 0.3, 0.45), \"non_membership\": (0.1, 0.3, 0.5)},\n",
        "    \"M\": {\"membership\": (0.35, 0.5, 0.65), \"non_membership\": (0.3, 0.5, 0.7)},\n",
        "    \"H\": {\"membership\": (0.55, 0.7, 0.85), \"non_membership\": (0.5, 0.7, 0.9)},\n",
        "    \"VH\": {\"membership\": (0.7, 0.85, 1.0), \"non_membership\": (0.65, 0.85, 1.0)}\n",
        "}\n",
        "\n",
        "# Step 2: Construct the linguistic decision matrix\n",
        "decision_matrix = dd2\n",
        "\n"
      ],
      "metadata": {
        "id": "l3ry-okAXG6l"
      },
      "execution_count": null,
      "outputs": []
    },
    {
      "cell_type": "code",
      "source": [
        "# Extract membership and non-membership values for each linguistic term in the decision matrix\n",
        "membership_matrix = np.zeros((12, 7, 3))  # (a_ij, b_ij, c_ij)\n",
        "non_membership_matrix = np.zeros((12, 7, 3))  # (a_ij', b_ij', c_ij')\n",
        "\n",
        "for i in range(12):\n",
        "    for j in range(7):\n",
        "        term = decision_matrix[i][j]\n",
        "        membership_matrix[i, j] = fuzzy_values[term][\"membership\"]\n",
        "        non_membership_matrix[i, j] = fuzzy_values[term][\"non_membership\"]\n",
        "\n",
        "# Normalize each term of the triangular intuitionistic fuzzy (TIF) set\n",
        "min_a = membership_matrix[:, :, 0].min()\n",
        "max_c = membership_matrix[:, :, 2].max()\n",
        "delta_max_min = max_c - min_a\n",
        "\n",
        "min_a_prime = non_membership_matrix[:, :, 0].min()\n",
        "max_c_prime = non_membership_matrix[:, :, 2].max()\n",
        "nabla_max_min = max_c_prime - min_a_prime\n",
        "\n",
        "# Calculate normalized values\n",
        "normalized_membership = (membership_matrix - min_a) / delta_max_min\n",
        "normalized_non_membership = (max_c_prime - non_membership_matrix) / nabla_max_min\n"
      ],
      "metadata": {
        "id": "gIc2VcorPwOz"
      },
      "execution_count": null,
      "outputs": []
    },
    {
      "cell_type": "code",
      "source": [
        "#print(membership_matrix)"
      ],
      "metadata": {
        "id": "mp9eoRLUwGy_"
      },
      "execution_count": null,
      "outputs": []
    },
    {
      "cell_type": "code",
      "source": [
        "# Calculate left and right scores for each term in the TIF set\n",
        "left_right_scores = np.zeros((12, 7, 4))  # (x_as_ij, x_cs_ij, x_as_ij_prime, x_cs_ij_prime)\n",
        "\n",
        "for i in range(12):\n",
        "    for j in range(7):\n",
        "        x_as_ij = normalized_membership[i, j, 1] / (1 + normalized_membership[i, j, 1] - normalized_membership[i, j, 0])\n",
        "        x_cs_ij = normalized_membership[i, j, 2] / (1 + normalized_membership[i, j, 2] - normalized_membership[i, j, 1])\n",
        "\n",
        "        x_as_ij_prime = normalized_non_membership[i, j, 0] / (1 + normalized_non_membership[i, j, 0] - normalized_non_membership[i, j, 1])\n",
        "        x_cs_ij_prime = normalized_non_membership[i, j, 1] / (1 + normalized_non_membership[i, j, 1] - normalized_non_membership[i, j, 2])\n",
        "\n",
        "        left_right_scores[i, j] = (x_as_ij, x_cs_ij, x_as_ij_prime, x_cs_ij_prime)\n"
      ],
      "metadata": {
        "id": "B9JG2NCreHWW"
      },
      "execution_count": null,
      "outputs": []
    },
    {
      "cell_type": "code",
      "source": [],
      "metadata": {
        "id": "oXjs_JYmvrN6"
      },
      "execution_count": null,
      "outputs": []
    },
    {
      "cell_type": "code",
      "source": [
        "total_normalized_matrix = np.zeros((12, 7, 2))  # (x_n_ij, x_n_ij_prime)\n",
        "\n",
        "for i in range(12):\n",
        "    for j in range(7):\n",
        "        x_n_ij = (left_right_scores[i, j, 0] * (1 - left_right_scores[i, j, 0]) + left_right_scores[i, j, 1] ** 2) / (1 - left_right_scores[i, j, 0] + left_right_scores[i, j, 1])\n",
        "        x_n_ij_prime = (left_right_scores[i, j, 3] * (1 - left_right_scores[i, j, 3]) + left_right_scores[i, j, 2] ** 2) / (1 - left_right_scores[i, j, 3] + left_right_scores[i, j, 2])\n",
        "\n",
        "        total_normalized_matrix[i, j] = (x_n_ij, x_n_ij_prime)\n"
      ],
      "metadata": {
        "id": "-rRERberwz0d"
      },
      "execution_count": null,
      "outputs": []
    },
    {
      "cell_type": "code",
      "source": [],
      "metadata": {
        "id": "bB1iOiu0eHf5"
      },
      "execution_count": null,
      "outputs": []
    },
    {
      "cell_type": "code",
      "source": [
        "separated_values = np.zeros((12, 7, 2))  # (Zn_ij, Zn_ij_prime)\n",
        "\n",
        "for i in range(12):\n",
        "    for j in range(7):\n",
        "        Zn_ij = min_a + total_normalized_matrix[i, j, 0] * delta_max_min\n",
        "        Zn_ij_prime = total_normalized_matrix[i, j, 1] * delta_max_min - min_a\n",
        "\n",
        "        separated_values[i, j] = (Zn_ij, Zn_ij_prime)\n"
      ],
      "metadata": {
        "id": "OGsCX8nIw0k9"
      },
      "execution_count": null,
      "outputs": []
    },
    {
      "cell_type": "code",
      "source": [
        "D1=np.array(separated_values)"
      ],
      "metadata": {
        "id": "_7NZTiFXxARl"
      },
      "execution_count": null,
      "outputs": []
    },
    {
      "cell_type": "code",
      "source": [
        "# Row and column labels\n",
        "row_labels = [f\"A{i+1}\" for i in range(D1.shape[0])]\n",
        "column_labels = [f\"C{j+1}\" for j in range(D1.shape[1])]\n",
        "\n",
        "# Convert each pair to a string for better table formatting\n",
        "data_str = [[f\"({val[0]:.5f}, {val[1]:.5f})\" for val in row] for row in D1]\n",
        "\n",
        "# Create DataFrame\n",
        "judge2 = pd.DataFrame(data_str, index=row_labels, columns=column_labels)\n",
        "\n",
        "# Display DataFrame\n",
        "print(judge2)"
      ],
      "metadata": {
        "id": "lxCRona_vwzy",
        "colab": {
          "base_uri": "https://localhost:8080/"
        },
        "outputId": "11855e1c-b4f8-4b60-ea08-16087b6ada42"
      },
      "execution_count": null,
      "outputs": [
        {
          "output_type": "stream",
          "name": "stdout",
          "text": [
            "                     C1                  C2                  C3  \\\n",
            "A1   (0.69511, 0.14126)  (0.50293, 0.31958)  (0.50293, 0.31958)   \n",
            "A2   (0.69511, 0.14126)  (0.50293, 0.31958)  (0.69511, 0.14126)   \n",
            "A3   (0.69511, 0.14126)  (0.69511, 0.14126)  (0.50293, 0.31958)   \n",
            "A4   (0.69511, 0.14126)  (0.31076, 0.49790)  (0.50293, 0.31958)   \n",
            "A5   (0.83924, 0.01177)  (0.83924, 0.01177)  (0.50293, 0.31958)   \n",
            "A6   (0.50293, 0.31958)  (0.50293, 0.31958)  (0.83924, 0.01177)   \n",
            "A7   (0.31076, 0.49790)  (0.31076, 0.49790)  (0.50293, 0.31958)   \n",
            "A8   (0.69511, 0.14126)  (0.69511, 0.14126)  (0.50293, 0.31958)   \n",
            "A9   (0.50293, 0.31958)  (0.31076, 0.49790)  (0.50293, 0.31958)   \n",
            "A10  (0.83924, 0.01177)  (0.69511, 0.14126)  (0.83924, 0.01177)   \n",
            "A11  (0.69511, 0.14126)  (0.83924, 0.01177)  (0.50293, 0.31958)   \n",
            "A12  (0.31076, 0.49790)  (0.50293, 0.31958)  (0.69511, 0.14126)   \n",
            "\n",
            "                     C4                  C5                  C6  \\\n",
            "A1   (0.50293, 0.31958)  (0.69511, 0.14126)  (0.31076, 0.49790)   \n",
            "A2   (0.50293, 0.31958)  (0.83924, 0.01177)  (0.31076, 0.49790)   \n",
            "A3   (0.69511, 0.14126)  (0.50293, 0.31958)  (0.69511, 0.14126)   \n",
            "A4   (0.31076, 0.49790)  (0.69511, 0.14126)  (0.31076, 0.49790)   \n",
            "A5   (0.69511, 0.14126)  (0.31076, 0.49790)  (0.31076, 0.49790)   \n",
            "A6   (0.50293, 0.31958)  (0.50293, 0.31958)  (0.50293, 0.31958)   \n",
            "A7   (0.31076, 0.49790)  (0.31076, 0.49790)  (0.50293, 0.31958)   \n",
            "A8   (0.50293, 0.31958)  (0.50293, 0.31958)  (0.50293, 0.31958)   \n",
            "A9   (0.50293, 0.31958)  (0.50293, 0.31958)  (0.31076, 0.49790)   \n",
            "A10  (0.69511, 0.14126)  (0.69511, 0.14126)  (0.31076, 0.49790)   \n",
            "A11  (0.50293, 0.31958)  (0.69511, 0.14126)  (0.69511, 0.14126)   \n",
            "A12  (0.50293, 0.31958)  (0.69511, 0.14126)  (0.50293, 0.31958)   \n",
            "\n",
            "                     C7  \n",
            "A1   (0.50293, 0.31958)  \n",
            "A2   (0.69511, 0.14126)  \n",
            "A3   (0.50293, 0.31958)  \n",
            "A4   (0.31076, 0.49790)  \n",
            "A5   (0.31076, 0.49790)  \n",
            "A6   (0.50293, 0.31958)  \n",
            "A7   (0.69511, 0.14126)  \n",
            "A8   (0.50293, 0.31958)  \n",
            "A9   (0.69511, 0.14126)  \n",
            "A10  (0.69511, 0.14126)  \n",
            "A11  (0.50293, 0.31958)  \n",
            "A12  (0.31076, 0.49790)  \n"
          ]
        }
      ]
    },
    {
      "cell_type": "code",
      "source": [
        "new_values = 0.5 * (1 + D1[:,:,0] - D1[:,:,1])\n",
        "combined_judge2= pd.DataFrame(new_values, index=row_labels, columns=column_labels)\n",
        "print(combined_judge2)"
      ],
      "metadata": {
        "colab": {
          "base_uri": "https://localhost:8080/"
        },
        "id": "eWf5nv_gvw4d",
        "outputId": "c66fadbd-d3ba-43bf-c64c-d1f5e6b17553"
      },
      "execution_count": null,
      "outputs": [
        {
          "output_type": "stream",
          "name": "stdout",
          "text": [
            "           C1        C2        C3        C4        C5        C6        C7\n",
            "A1   0.776925  0.591677  0.591677  0.591677  0.776925  0.406429  0.591677\n",
            "A2   0.776925  0.591677  0.776925  0.591677  0.913733  0.406429  0.776925\n",
            "A3   0.776925  0.776925  0.591677  0.776925  0.591677  0.776925  0.591677\n",
            "A4   0.776925  0.406429  0.591677  0.406429  0.776925  0.406429  0.406429\n",
            "A5   0.913733  0.913733  0.591677  0.776925  0.406429  0.406429  0.406429\n",
            "A6   0.591677  0.591677  0.913733  0.591677  0.591677  0.591677  0.591677\n",
            "A7   0.406429  0.406429  0.591677  0.406429  0.406429  0.591677  0.776925\n",
            "A8   0.776925  0.776925  0.591677  0.591677  0.591677  0.591677  0.591677\n",
            "A9   0.591677  0.406429  0.591677  0.591677  0.591677  0.406429  0.776925\n",
            "A10  0.913733  0.776925  0.913733  0.776925  0.776925  0.406429  0.776925\n",
            "A11  0.776925  0.913733  0.591677  0.591677  0.776925  0.776925  0.591677\n",
            "A12  0.406429  0.591677  0.776925  0.591677  0.776925  0.591677  0.406429\n"
          ]
        }
      ]
    },
    {
      "cell_type": "code",
      "source": [
        "#print(judge1)\n",
        "#print(judge2)\n",
        "#print(judge3)\n",
        "print(combined_judge1)\n",
        "#print(combined_judge2)\n",
        "#print(combined_judge3)"
      ],
      "metadata": {
        "id": "3b8L3tj5vw71",
        "colab": {
          "base_uri": "https://localhost:8080/"
        },
        "outputId": "21eb7ed4-bb0a-4fe6-c73e-869c2cc83fb5"
      },
      "execution_count": null,
      "outputs": [
        {
          "output_type": "stream",
          "name": "stdout",
          "text": [
            "           C1        C2        C3        C4        C5        C6        C7\n",
            "A1   0.743571  0.558323  0.558323  0.743571  0.558323  0.236267  0.236267\n",
            "A2   0.743571  0.373075  0.558323  0.743571  0.236267  0.373075  0.236267\n",
            "A3   0.743571  0.743571  0.373075  0.236267  0.558323  0.373075  0.236267\n",
            "A4   0.743571  0.373075  0.558323  0.743571  0.236267  0.373075  0.236267\n",
            "A5   0.558323  0.743571  0.558323  0.373075  0.236267  0.558323  0.558323\n",
            "A6   0.558323  0.373075  0.558323  0.558323  0.236267  0.373075  0.373075\n",
            "A7   0.558323  0.373075  0.236267  0.236267  0.558323  0.373075  0.236267\n",
            "A8   0.558323  0.558323  0.558323  0.373075  0.236267  0.236267  0.236267\n",
            "A9   0.373075  0.373075  0.373075  0.743571  0.373075  0.236267  0.373075\n",
            "A10  0.743571  0.743571  0.373075  0.236267  0.236267  0.373075  0.236267\n",
            "A11  0.743571  0.558323  0.558323  0.236267  0.236267  0.373075  0.236267\n",
            "A12  0.743571  0.236267  0.743571  0.236267  0.373075  0.236267  0.236267\n"
          ]
        }
      ]
    },
    {
      "cell_type": "code",
      "source": [],
      "metadata": {
        "id": "CKdUrr4Ys_P5"
      },
      "execution_count": null,
      "outputs": []
    },
    {
      "cell_type": "code",
      "source": [],
      "metadata": {
        "id": "7a4kRfmaz0RA"
      },
      "execution_count": null,
      "outputs": []
    },
    {
      "cell_type": "code",
      "source": [
        "weights=[0.3,0.5,0.2]"
      ],
      "metadata": {
        "id": "578eO3U6z0bx"
      },
      "execution_count": null,
      "outputs": []
    },
    {
      "cell_type": "code",
      "source": [
        "combined_table = (weights[0] * combined_judge1 +\n",
        "                  weights[1] * combined_judge2 +\n",
        "                  weights[2] * combined_judge3)\n",
        "\n",
        "# Display the resulting combined table\n",
        "print(combined_table)"
      ],
      "metadata": {
        "colab": {
          "base_uri": "https://localhost:8080/"
        },
        "id": "8WzhGy2INru8",
        "outputId": "a9f037ca-e061-49a9-9cb2-d9b068889bc0"
      },
      "execution_count": null,
      "outputs": [
        {
          "output_type": "stream",
          "name": "stdout",
          "text": [
            "           C1        C2        C3        C4        C5        C6        C7\n",
            "A1   0.711534  0.524890  0.563335  0.657355  0.655959  0.307241  0.428273\n",
            "A2   0.711534  0.469315  0.694405  0.657355  0.560893  0.415137  0.559343\n",
            "A3   0.749979  0.749979  0.507761  0.597788  0.524890  0.638831  0.466719\n",
            "A4   0.749979  0.348284  0.601781  0.487840  0.559343  0.348284  0.374095\n",
            "A5   0.724363  0.846791  0.563335  0.638831  0.335649  0.403858  0.509157\n",
            "A6   0.563335  0.507761  0.762809  0.524890  0.399865  0.507761  0.507761\n",
            "A7   0.432266  0.348284  0.428273  0.335649  0.432266  0.440908  0.520897\n",
            "A8   0.694405  0.655959  0.601781  0.507761  0.428273  0.466719  0.505164\n",
            "A9   0.469315  0.348284  0.507761  0.580464  0.507761  0.307241  0.600385\n",
            "A10  0.846791  0.749979  0.707235  0.597788  0.597788  0.348284  0.626196\n",
            "A11  0.749979  0.762809  0.563335  0.466719  0.520897  0.600385  0.505164\n",
            "A12  0.564731  0.466719  0.749979  0.466719  0.600385  0.466719  0.412540\n"
          ]
        }
      ]
    },
    {
      "cell_type": "code",
      "source": [
        "# Define criteria weights based on user input\n",
        "criteria_weights = {\n",
        "    'C1': 0.15,\n",
        "    'C2': 0.2,\n",
        "    'C3': 0.2,\n",
        "    'C4': 0.1,\n",
        "    'C5': 0.1,\n",
        "    'C6': 0.15,\n",
        "    'C7': 0.1\n",
        "}"
      ],
      "metadata": {
        "id": "8plsr4GoWbSc"
      },
      "execution_count": null,
      "outputs": []
    },
    {
      "cell_type": "code",
      "source": [
        "import numpy as np"
      ],
      "metadata": {
        "id": "BV1cnBVPYOcx"
      },
      "execution_count": null,
      "outputs": []
    },
    {
      "cell_type": "code",
      "source": [
        "import numpy as np\n",
        "import pandas as pd\n",
        "\n",
        "# Assuming combined_table is already loaded with the data (combined_judge1, combined_judge2, combined_judge3)\n",
        "# combined_table is a DataFrame with the alternatives in rows (A1 to A12) and criteria in columns (C1 to C7)\n",
        "\n",
        "# Define criteria weights based on user input\n",
        "criteria_weights = {\n",
        "    'C1': 0.15,\n",
        "    'C2': 0.2,\n",
        "    'C3': 0.2,\n",
        "    'C4': 0.1,\n",
        "    'C5': 0.1,\n",
        "    'C6': 0.15,\n",
        "    'C7': 0.1\n",
        "}\n",
        "\n",
        "# Normalize criteria weights\n",
        "total_weight = sum(criteria_weights.values())\n",
        "normalized_weights = {k: v / total_weight for k, v in criteria_weights.items()}\n",
        "\n",
        "weighted_matrix = combined_table.apply(lambda col: col * normalized_weights[col.name], axis=0)\n",
        "\n",
        "# Step 2\n",
        "PIS = weighted_matrix.max()\n",
        "NIS = weighted_matrix.min()\n",
        "\n",
        "# Step 3:\n",
        "def calculate_distance(row, ideal):\n",
        "    return np.sqrt(((row - ideal) ** 2).sum())\n",
        "\n",
        "# Calculate distance to PIS and NIS\n",
        "distance_to_PIS = weighted_matrix.apply(lambda row: calculate_distance(row, PIS), axis=1)\n",
        "distance_to_NIS = weighted_matrix.apply(lambda row: calculate_distance(row, NIS), axis=1)\n",
        "\n",
        "closeness_coefficient = distance_to_NIS / (distance_to_PIS + distance_to_NIS)\n",
        "\n",
        "rank = closeness_coefficient.rank(ascending=False)\n",
        "\n",
        "combined_table['Closeness_Coefficient'] = closeness_coefficient\n",
        "combined_table['Rank'] = rank\n",
        "combined_table = combined_table.sort_values(by='Rank')\n",
        "\n",
        "print(\"Final Ranking based on Fuzzy TOPSIS:\")\n",
        "print(combined_table[['Closeness_Coefficient', 'Rank']])\n"
      ],
      "metadata": {
        "colab": {
          "base_uri": "https://localhost:8080/"
        },
        "id": "BVypKCE7W3k_",
        "outputId": "55ea88bd-4e2b-418b-84e6-fed4d203dbf9"
      },
      "execution_count": null,
      "outputs": [
        {
          "output_type": "stream",
          "name": "stdout",
          "text": [
            "Final Ranking based on Fuzzy TOPSIS:\n",
            "     Closeness_Coefficient  Rank\n",
            "A10               0.714691   1.0\n",
            "A11               0.678310   2.0\n",
            "A3                0.649970   3.0\n",
            "A5                0.641607   4.0\n",
            "A8                0.564212   5.0\n",
            "A2                0.496000   6.0\n",
            "A6                0.493381   7.0\n",
            "A12               0.459200   8.0\n",
            "A1                0.445586   9.0\n",
            "A4                0.354269  10.0\n",
            "A9                0.232124  11.0\n",
            "A7                0.155989  12.0\n"
          ]
        }
      ]
    },
    {
      "cell_type": "code",
      "source": [],
      "metadata": {
        "id": "uofs27PAnfTJ"
      },
      "execution_count": null,
      "outputs": []
    },
    {
      "cell_type": "code",
      "source": [],
      "metadata": {
        "id": "2iAza6XxnfgY"
      },
      "execution_count": null,
      "outputs": []
    },
    {
      "cell_type": "code",
      "source": [],
      "metadata": {
        "id": "quN9EPEXnfjI"
      },
      "execution_count": null,
      "outputs": []
    },
    {
      "cell_type": "code",
      "source": [],
      "metadata": {
        "id": "uA8y8-Hhnfmd"
      },
      "execution_count": null,
      "outputs": []
    },
    {
      "cell_type": "code",
      "source": [
        "import pandas as pd\n",
        "import numpy as np\n",
        "\n",
        "df = combined_U_table\n",
        "\n",
        "# Criteria weights\n",
        "criteria_weights = {\n",
        "    'C1': 0.15,\n",
        "    'C2': 0.2,\n",
        "    'C3': 0.2,\n",
        "    'C4': 0.1,\n",
        "    'C5': 0.1,\n",
        "    'C6': 0.15,\n",
        "    'C7': 0.1\n",
        "}\n",
        "\n",
        "# Calculate the weighted score\n",
        "df['Score'] = df.apply(lambda row: sum(row[col] * weight for col, weight in criteria_weights.items()), axis=1)\n",
        "\n",
        "# Rank the rows based on the score\n",
        "df['Rank'] = df['Score'].rank(ascending=False).astype(int)\n",
        "\n",
        "# Sort by rank\n",
        "df_sorted = df.sort_values('Rank')\n",
        "\n",
        "# Display the result\n",
        "print(df_sorted)\n"
      ],
      "metadata": {
        "colab": {
          "base_uri": "https://localhost:8080/"
        },
        "id": "Y8vf35mzvEBo",
        "outputId": "e5a88155-b416-4816-b03f-b6fb4290371f"
      },
      "execution_count": null,
      "outputs": [
        {
          "output_type": "stream",
          "name": "stdout",
          "text": [
            "           C1        C2        C3        C4        C5        C6        C7  \\\n",
            "A10  0.628614  0.443737  0.479563  0.324286  0.324286  0.081974  0.370013   \n",
            "A11  0.443737  0.517535  0.219959  0.165860  0.264006  0.301732  0.204541   \n",
            "A5   0.478854  0.628614  0.219959  0.340414  0.074210  0.119947  0.188590   \n",
            "A3   0.443737  0.443737  0.181987  0.324286  0.198360  0.340414  0.165860   \n",
            "A2   0.405056  0.160388  0.378386  0.323992  0.394792  0.111937  0.285605   \n",
            "A8   0.378386  0.339705  0.258640  0.181987  0.144261  0.165860  0.204541   \n",
            "A6   0.219959  0.181987  0.517535  0.198360  0.135897  0.181987  0.181987   \n",
            "A12  0.253942  0.165860  0.443737  0.165860  0.301732  0.165860  0.134490   \n",
            "A1   0.405056  0.198360  0.219959  0.323992  0.339705  0.065847  0.144261   \n",
            "A4   0.443737  0.081974  0.258640  0.193661  0.285605  0.081974  0.095809   \n",
            "A9   0.160388  0.081974  0.181987  0.263712  0.181987  0.065847  0.301732   \n",
            "A7   0.128310  0.081974  0.144261  0.074210  0.128310  0.152025  0.264006   \n",
            "\n",
            "        Score  Rank  \n",
            "A10  0.393107     1  \n",
            "A11  0.322760     2  \n",
            "A5   0.319856     3  \n",
            "A3   0.311618     4  \n",
            "A2   0.285743     5  \n",
            "A8   0.254385     6  \n",
            "A6   0.251821     7  \n",
            "A12  0.245098     8  \n",
            "A1   0.235095     9  \n",
            "A4   0.204487    10  \n",
            "A9   0.161471    11  \n",
            "A7   0.133950    12  \n"
          ]
        }
      ]
    },
    {
      "cell_type": "code",
      "source": [
        "import pandas as pd\n",
        "import numpy as np\n",
        "\n",
        "# Load the data (assuming it's already in a DataFrame called 'combined_data')\n",
        "combined_data = pd.DataFrame({\n",
        "    'C1': [0.711534, 0.711534, 0.749979, 0.749979, 0.724363, 0.563335, 0.432266, 0.694405, 0.469315, 0.846791, 0.749979, 0.564731],\n",
        "    'C2': [0.524890, 0.469315, 0.749979, 0.348284, 0.846791, 0.507761, 0.348284, 0.655959, 0.348284, 0.749979, 0.762809, 0.466719],\n",
        "    'C3': [0.563335, 0.694405, 0.507761, 0.601781, 0.563335, 0.762809, 0.428273, 0.601781, 0.507761, 0.707235, 0.563335, 0.749979],\n",
        "    'C4': [0.657355, 0.657355, 0.597788, 0.487840, 0.638831, 0.524890, 0.335649, 0.507761, 0.580464, 0.597788, 0.466719, 0.466719],\n",
        "    'C5': [0.655959, 0.560893, 0.524890, 0.559343, 0.335649, 0.399865, 0.432266, 0.428273, 0.507761, 0.597788, 0.520897, 0.600385],\n",
        "    'C6': [0.307241, 0.415137, 0.638831, 0.348284, 0.403858, 0.507761, 0.440908, 0.466719, 0.307241, 0.348284, 0.600385, 0.466719],\n",
        "    'C7': [0.428273, 0.559343, 0.466719, 0.374095, 0.509157, 0.507761, 0.520897, 0.505164, 0.600385, 0.626196, 0.505164, 0.412540]\n",
        "}, index=['A1', 'A2', 'A3', 'A4', 'A5', 'A6', 'A7', 'A8', 'A9', 'A10', 'A11', 'A12'])\n",
        "\n",
        "criteria_weights = {\n",
        "    'C1': 0.15,\n",
        "    'C2': 0.2,\n",
        "    'C3': 0.2,\n",
        "    'C4': 0.1,\n",
        "    'C5': 0.1,\n",
        "    'C6': 0.15,\n",
        "    'C7': 0.1\n",
        "}\n",
        "\n",
        "# Step 1: Normalize the values for each criterion (0-1 scale)\n",
        "# Assuming the criteria are benefit criteria (higher is better)\n",
        "normalized_data = combined_data.apply(lambda x: (x - x.min()) / (x.max() - x.min()), axis=0)\n",
        "\n",
        "UT= (np.exp(normalized_data**2) - 1)/1.71\n",
        "# Step 2: Calculate utility scores by applying the weights\n",
        "utility_scores = UT * pd.Series(criteria_weights)\n",
        "\n",
        "# Step 3: Calculate the total utility score for each alternative\n",
        "combined_data['Total Utility'] = utility_scores.sum(axis=1)\n",
        "\n",
        "# Step 4: Rank the alternatives based on the total utility score\n",
        "combined_data['Rank'] = combined_data['Total Utility'].rank(ascending=False)\n",
        "\n",
        "# Sort by rank for final ranking\n",
        "final_ranking = combined_data.sort_values(by='Rank')\n",
        "\n",
        "# Display the final ranking and utility scores\n",
        "print(\"Final Ranking based on MAUT:\")\n",
        "print(final_ranking[['Total Utility', 'Rank']])\n"
      ],
      "metadata": {
        "colab": {
          "base_uri": "https://localhost:8080/"
        },
        "id": "gAzUggH_r43L",
        "outputId": "58e7b4d9-2c6f-4e00-d317-b3676b33e840"
      },
      "execution_count": null,
      "outputs": [
        {
          "output_type": "stream",
          "name": "stdout",
          "text": [
            "Final Ranking based on MAUT:\n",
            "     Total Utility  Rank\n",
            "A10       0.587858   1.0\n",
            "A3        0.422563   2.0\n",
            "A5        0.388957   3.0\n",
            "A11       0.363262   4.0\n",
            "A2        0.350319   5.0\n",
            "A6        0.307084   6.0\n",
            "A1        0.290465   7.0\n",
            "A12       0.286225   8.0\n",
            "A8        0.198917   9.0\n",
            "A4        0.159004  10.0\n",
            "A9        0.145360  11.0\n",
            "A7        0.044654  12.0\n"
          ]
        }
      ]
    },
    {
      "cell_type": "code",
      "source": [
        "print(combined_table[['Closeness_Coefficient', 'Rank']])"
      ],
      "metadata": {
        "colab": {
          "base_uri": "https://localhost:8080/"
        },
        "id": "xv43vZXrxxaL",
        "outputId": "48116d0c-164c-4112-ecf3-db367be604f7"
      },
      "execution_count": null,
      "outputs": [
        {
          "output_type": "stream",
          "name": "stdout",
          "text": [
            "     Closeness_Coefficient  Rank\n",
            "A10               0.714691   1.0\n",
            "A11               0.678310   2.0\n",
            "A3                0.649970   3.0\n",
            "A5                0.641607   4.0\n",
            "A8                0.564212   5.0\n",
            "A2                0.496000   6.0\n",
            "A6                0.493381   7.0\n",
            "A12               0.459200   8.0\n",
            "A1                0.445586   9.0\n",
            "A4                0.354269  10.0\n",
            "A9                0.232124  11.0\n",
            "A7                0.155989  12.0\n"
          ]
        }
      ]
    },
    {
      "cell_type": "code",
      "source": [
        "print(combined_data)"
      ],
      "metadata": {
        "colab": {
          "base_uri": "https://localhost:8080/"
        },
        "id": "Asgp_lWFxRd8",
        "outputId": "2cc2d3a7-dc75-4db5-e0bd-15f0512e841d"
      },
      "execution_count": null,
      "outputs": [
        {
          "output_type": "stream",
          "name": "stdout",
          "text": [
            "           C1        C2        C3        C4        C5        C6        C7  \\\n",
            "A1   0.711534  0.524890  0.563335  0.657355  0.655959  0.307241  0.428273   \n",
            "A2   0.711534  0.469315  0.694405  0.657355  0.560893  0.415137  0.559343   \n",
            "A3   0.749979  0.749979  0.507761  0.597788  0.524890  0.638831  0.466719   \n",
            "A4   0.749979  0.348284  0.601781  0.487840  0.559343  0.348284  0.374095   \n",
            "A5   0.724363  0.846791  0.563335  0.638831  0.335649  0.403858  0.509157   \n",
            "A6   0.563335  0.507761  0.762809  0.524890  0.399865  0.507761  0.507761   \n",
            "A7   0.432266  0.348284  0.428273  0.335649  0.432266  0.440908  0.520897   \n",
            "A8   0.694405  0.655959  0.601781  0.507761  0.428273  0.466719  0.505164   \n",
            "A9   0.469315  0.348284  0.507761  0.580464  0.507761  0.307241  0.600385   \n",
            "A10  0.846791  0.749979  0.707235  0.597788  0.597788  0.348284  0.626196   \n",
            "A11  0.749979  0.762809  0.563335  0.466719  0.520897  0.600385  0.505164   \n",
            "A12  0.564731  0.466719  0.749979  0.466719  0.600385  0.466719  0.412540   \n",
            "\n",
            "     Total Utility  Rank  \n",
            "A1        0.290465   7.0  \n",
            "A2        0.350319   5.0  \n",
            "A3        0.422563   2.0  \n",
            "A4        0.159004  10.0  \n",
            "A5        0.388957   3.0  \n",
            "A6        0.307084   6.0  \n",
            "A7        0.044654  12.0  \n",
            "A8        0.198917   9.0  \n",
            "A9        0.145360  11.0  \n",
            "A10       0.587858   1.0  \n",
            "A11       0.363262   4.0  \n",
            "A12       0.286225   8.0  \n"
          ]
        }
      ]
    },
    {
      "cell_type": "code",
      "source": [
        "import pandas as pd\n",
        "\n",
        "# Data from Final Ranking based on MAUT\n",
        "CU_data = {\n",
        "    'Total_Utility': [0.290465, 0.350319, 0.422563, 0.159004, 0.388957, 0.307084, 0.044654, 0.198917, 0.145360, 0.587858, 0.363262, 0.286225],\n",
        "    'Closeness_Coefficient': [0.445586, 0.496000, 0.649970, 0.354269, 0.641607, 0.493381, 0.155989, 0.564212, 0.232124, 0.714691, 0.678310, 0.459200],\n",
        "    'Label': ['A1', 'A2', 'A3', 'A4', 'A5', 'A6', 'A7', 'A8', 'A9', 'A10', 'A11', 'A12']\n",
        "}\n",
        "CU_df = pd.DataFrame(CU_data).set_index('Label')\n",
        "# Display the resulting DataFrame\n",
        "print(CU_df)\n"
      ],
      "metadata": {
        "colab": {
          "base_uri": "https://localhost:8080/"
        },
        "id": "DZgm5sjOxRwr",
        "outputId": "b571a8dd-b38a-460d-af05-6dc86d5a4fb2"
      },
      "execution_count": null,
      "outputs": [
        {
          "output_type": "stream",
          "name": "stdout",
          "text": [
            "       Total_Utility  Closeness_Coefficient\n",
            "Label                                      \n",
            "A1          0.290465               0.445586\n",
            "A2          0.350319               0.496000\n",
            "A3          0.422563               0.649970\n",
            "A4          0.159004               0.354269\n",
            "A5          0.388957               0.641607\n",
            "A6          0.307084               0.493381\n",
            "A7          0.044654               0.155989\n",
            "A8          0.198917               0.564212\n",
            "A9          0.145360               0.232124\n",
            "A10         0.587858               0.714691\n",
            "A11         0.363262               0.678310\n",
            "A12         0.286225               0.459200\n"
          ]
        }
      ]
    },
    {
      "cell_type": "code",
      "source": [
        "# Compute the average of each row\n",
        "CU_df['Average'] = CU_df.mean(axis=1)\n",
        "\n",
        "# Rank the rows based on the average in descending order\n",
        "CU_df['Rank'] = CU_df['Average'].rank(ascending=False, method='min')\n",
        "\n",
        "# Sort the DataFrame by rank\n",
        "CU_df = CU_df.sort_values(by='Rank')\n",
        "\n",
        "# Display the resulting DataFrame\n",
        "print(CU_df)\n"
      ],
      "metadata": {
        "colab": {
          "base_uri": "https://localhost:8080/"
        },
        "id": "19kS4EEDxR_a",
        "outputId": "138d6d06-58df-4733-a1b2-c08cbb4ded1c"
      },
      "execution_count": null,
      "outputs": [
        {
          "output_type": "stream",
          "name": "stdout",
          "text": [
            "       Total_Utility  Closeness_Coefficient   Average  Rank\n",
            "Label                                                      \n",
            "A10         0.587858               0.714691  0.651274   1.0\n",
            "A3          0.422563               0.649970  0.536266   2.0\n",
            "A11         0.363262               0.678310  0.520786   3.0\n",
            "A5          0.388957               0.641607  0.515282   4.0\n",
            "A2          0.350319               0.496000  0.423160   5.0\n",
            "A6          0.307084               0.493381  0.400232   6.0\n",
            "A8          0.198917               0.564212  0.381565   7.0\n",
            "A12         0.286225               0.459200  0.372713   8.0\n",
            "A1          0.290465               0.445586  0.368026   9.0\n",
            "A4          0.159004               0.354269  0.256636  10.0\n",
            "A9          0.145360               0.232124  0.188742  11.0\n",
            "A7          0.044654               0.155989  0.100321  12.0\n"
          ]
        }
      ]
    },
    {
      "cell_type": "code",
      "source": [
        "combined_data = pd.DataFrame({\n",
        "    'C1': [0.711534, 0.711534, 0.749979, 0.749979, 0.724363, 0.563335, 0.432266, 0.694405, 0.469315, 0.846791, 0.749979, 0.564731],\n",
        "    'C2': [0.524890, 0.469315, 0.749979, 0.348284, 0.846791, 0.507761, 0.348284, 0.655959, 0.348284, 0.749979, 0.762809, 0.466719],\n",
        "    'C3': [0.563335, 0.694405, 0.507761, 0.601781, 0.563335, 0.762809, 0.428273, 0.601781, 0.507761, 0.707235, 0.563335, 0.749979],\n",
        "    'C4': [0.657355, 0.657355, 0.597788, 0.487840, 0.638831, 0.524890, 0.335649, 0.507761, 0.580464, 0.597788, 0.466719, 0.466719],\n",
        "    'C5': [0.655959, 0.560893, 0.524890, 0.559343, 0.335649, 0.399865, 0.432266, 0.428273, 0.507761, 0.597788, 0.520897, 0.600385],\n",
        "    'C6': [0.307241, 0.415137, 0.638831, 0.348284, 0.403858, 0.507761, 0.440908, 0.466719, 0.307241, 0.348284, 0.600385, 0.466719],\n",
        "    'C7': [0.428273, 0.559343, 0.466719, 0.374095, 0.509157, 0.507761, 0.520897, 0.505164, 0.600385, 0.626196, 0.505164, 0.412540]\n",
        "}, index=['A1', 'A2', 'A3', 'A4', 'A5', 'A6', 'A7', 'A8', 'A9', 'A10', 'A11', 'A12'])\n",
        "print(combined_data)"
      ],
      "metadata": {
        "colab": {
          "base_uri": "https://localhost:8080/"
        },
        "id": "iK16Dy_nr-ob",
        "outputId": "6db0c3f5-0033-4688-b7e6-47c3620d2aab"
      },
      "execution_count": null,
      "outputs": [
        {
          "output_type": "stream",
          "name": "stdout",
          "text": [
            "           C1        C2        C3        C4        C5        C6        C7\n",
            "A1   0.711534  0.524890  0.563335  0.657355  0.655959  0.307241  0.428273\n",
            "A2   0.711534  0.469315  0.694405  0.657355  0.560893  0.415137  0.559343\n",
            "A3   0.749979  0.749979  0.507761  0.597788  0.524890  0.638831  0.466719\n",
            "A4   0.749979  0.348284  0.601781  0.487840  0.559343  0.348284  0.374095\n",
            "A5   0.724363  0.846791  0.563335  0.638831  0.335649  0.403858  0.509157\n",
            "A6   0.563335  0.507761  0.762809  0.524890  0.399865  0.507761  0.507761\n",
            "A7   0.432266  0.348284  0.428273  0.335649  0.432266  0.440908  0.520897\n",
            "A8   0.694405  0.655959  0.601781  0.507761  0.428273  0.466719  0.505164\n",
            "A9   0.469315  0.348284  0.507761  0.580464  0.507761  0.307241  0.600385\n",
            "A10  0.846791  0.749979  0.707235  0.597788  0.597788  0.348284  0.626196\n",
            "A11  0.749979  0.762809  0.563335  0.466719  0.520897  0.600385  0.505164\n",
            "A12  0.564731  0.466719  0.749979  0.466719  0.600385  0.466719  0.412540\n"
          ]
        }
      ]
    }
  ]
}